{
 "cells": [
  {
   "cell_type": "markdown",
   "id": "2b590e36",
   "metadata": {},
   "source": [
    "# Constructor\n",
    "Crete a Python Tv class with a constructor and the following attributes:\n",
    "\n",
    ".on (Boolean)\n",
    ".volume (float in [0,100])\n",
    ".active_channel (int in [1,10])\n",
    ".input (str in [\"Anthena\", \"HDMI1\", \"HDMI2\", \"HDMI3\"])\n",
    ".size (float in [42, 50, 55, 65, 75])"
   ]
  },
  {
   "cell_type": "code",
   "execution_count": 1,
   "id": "4cc38fae",
   "metadata": {},
   "outputs": [],
   "source": [
    "class TvClass:\n",
    "    def __init__(self, on:bool, volume: float, active_channel: int, input_:str, size: float):\n",
    "        self.on = on\n",
    "        self.volume = volume\n",
    "        self.active_channel = active_channel\n",
    "        self.input_ = input_\n",
    "        self.size = size   \n",
    "    \n",
    "#defining the methods: .switch_on()\n",
    "#.switch_off()\n",
    "#.set_volume(volume: int)\n",
    "#.change_channel(channel: int)\n",
    "#.set_input(value: str)\n",
    "#.sizes(float)\n",
    "    \n",
    "    def switch_on(self):\n",
    "        self.on = True\n",
    "    \n",
    "    def switch_off(self):\n",
    "        self.on = False\n",
    "        \n",
    "    def set_volume(self, volume: float):\n",
    "        if volume < 0:\n",
    "            self.volume = 0\n",
    "        elif volume > 100:\n",
    "            self.volume = 100\n",
    "        else:\n",
    "            self.volume = volume\n",
    "    \n",
    "    def change_channel(self, channel: int):\n",
    "        if channel < 1:\n",
    "            self.active_channel = 1\n",
    "        elif channel > 10:\n",
    "            self.active_channel = 10\n",
    "        else:\n",
    "            self.active_channel = channel\n",
    "            \n",
    "    def set_inputs(self, input_: str):\n",
    "        if input_ not in [\"Anthena\", \"HDMI1\", \"HDMI2\", \"HDMI3\"]:\n",
    "            print('not valid bro')\n",
    "        else:\n",
    "            self.input = input_\n",
    "            \n",
    "    def set_sizes(self, size: float):\n",
    "        if size not in [42, 50, 55, 65, 75]:\n",
    "            print('not valid bro')\n",
    "        else:\n",
    "            self.size = size\n",
    "            \n",
    "# defining tv_states to test code            \n",
    "    def tv_states(self):\n",
    "        print('TV on: ', self.on)\n",
    "        print('Vol: ', self.volume)\n",
    "        print('Chan: ', self.active_channel)\n",
    "        print('Port: ',self.input_)\n",
    "        print('Size: ',self.size)"
   ]
  },
  {
   "cell_type": "code",
   "execution_count": 2,
   "id": "9c560e1b",
   "metadata": {},
   "outputs": [],
   "source": [
    "#creating a random TV in order to dest the tv_states\n",
    "tv = TvClass(True, 12, 7, 'HDMI1', 75)"
   ]
  },
  {
   "cell_type": "code",
   "execution_count": 3,
   "id": "070b0533",
   "metadata": {},
   "outputs": [
    {
     "name": "stdout",
     "output_type": "stream",
     "text": [
      "TV on:  True\n",
      "Vol:  12\n",
      "Chan:  7\n",
      "Port:  HDMI1\n",
      "Size:  75\n"
     ]
    }
   ],
   "source": [
    "TvClass.tv_states(tv)"
   ]
  },
  {
   "cell_type": "code",
   "execution_count": null,
   "id": "9093a2f9",
   "metadata": {},
   "outputs": [],
   "source": []
  }
 ],
 "metadata": {
  "kernelspec": {
   "display_name": "Python 3 (ipykernel)",
   "language": "python",
   "name": "python3"
  },
  "language_info": {
   "codemirror_mode": {
    "name": "ipython",
    "version": 3
   },
   "file_extension": ".py",
   "mimetype": "text/x-python",
   "name": "python",
   "nbconvert_exporter": "python",
   "pygments_lexer": "ipython3",
   "version": "3.9.13"
  }
 },
 "nbformat": 4,
 "nbformat_minor": 5
}
